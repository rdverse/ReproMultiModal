{
 "cells": [
  {
   "cell_type": "markdown",
   "id": "0baa4c0f-9110-4a5a-84db-94fcee579c7f",
   "metadata": {},
   "source": [
    "# Build a csv that has the one-hot encoding of the paper assigned to each and individual figure in the manuscript"
   ]
  },
  {
   "cell_type": "code",
   "execution_count": null,
   "id": "6adff542-3e5f-4633-b9d5-6258bfd05917",
   "metadata": {},
   "outputs": [],
   "source": []
  }
 ],
 "metadata": {
  "kernelspec": {
   "display_name": "reproducePy",
   "language": "python",
   "name": "reproducepy"
  },
  "language_info": {
   "codemirror_mode": {
    "name": "ipython",
    "version": 3
   },
   "file_extension": ".py",
   "mimetype": "text/x-python",
   "name": "python",
   "nbconvert_exporter": "python",
   "pygments_lexer": "ipython3",
   "version": "3.9.12"
  }
 },
 "nbformat": 4,
 "nbformat_minor": 5
}
